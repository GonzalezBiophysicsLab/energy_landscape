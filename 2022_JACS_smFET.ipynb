{
 "cells": [
  {
   "cell_type": "markdown",
   "metadata": {},
   "source": [
    "Title: Characterizing the conformational free-energy landscape of RNA using single-molecule field-effect transistors\n",
    "\n",
    "Authors: Sukjin S. Jang, Sarah Dubnik, Jason Hon, Colin Nuckolls, Ruben L. Gonzalez, Jr.\n",
    "\n",
    "This script was used for generating the energy landscape figure in the above Manuscript."
   ]
  },
  {
   "cell_type": "code",
   "execution_count": 1,
   "metadata": {},
   "outputs": [],
   "source": [
    "import numpy as np\n",
    "from mpl_toolkits.mplot3d import Axes3D\n",
    "import matplotlib.pyplot as plt\n",
    "import matplotlib.colors as col\n",
    "from scipy import ndimage as nd\n",
    "from matplotlib.collections import LineCollection"
   ]
  },
  {
   "cell_type": "code",
   "execution_count": 2,
   "metadata": {},
   "outputs": [],
   "source": [
    "def gaussian(x,y,a,b,mx,my,vx,vy):\n",
    "    return a*np.exp(-.5*((x-mx)**2./vx + (y-my)**2./vy)) + b"
   ]
  },
  {
   "cell_type": "code",
   "execution_count": 3,
   "metadata": {},
   "outputs": [],
   "source": [
    "def degrid(a):\n",
    "    #removes grids which are default in matplotlib 3D plots\n",
    "    a.grid(False)\n",
    "    \n",
    "    a.xaxis.pane.fill = False\n",
    "    a.yaxis.pane.fill = False\n",
    "    a.zaxis.pane.fill = False\n",
    "    a.xaxis.pane.set_visible(False)\n",
    "    a.yaxis.pane.set_visible(False)\n",
    "    a.zaxis.pane.set_visible(False)\n",
    "    \n",
    "    a.set_axis_off()\n",
    "    \n",
    "    a.xaxis.line.set_visible(False)\n",
    "    a.yaxis.line.set_visible(False)\n",
    "    a.zaxis.line.set_visible(False)\n"
   ]
  },
  {
   "cell_type": "code",
   "execution_count": 4,
   "metadata": {},
   "outputs": [],
   "source": [
    "def make_noise(gx,seed=None):\n",
    "    #generates noise which is used to portray the roughness in the landscape\n",
    "    if not seed is None:\n",
    "        np.random.seed(seed)\n",
    "    noise = (np.random.rand(*gx.shape)-.5)*1.\n",
    "    noise = nd.gaussian_filter(nd.maximum_filter(noise,25) - nd.minimum_filter(noise,25),4.)\n",
    "    noise -= noise.min()\n",
    "    noise /= noise.max()\n",
    "    noise = np.sqrt(noise)\n",
    "    noise -= .5\n",
    "    noise *= z.mean()*2.\n",
    "    return noise"
   ]
  },
  {
   "cell_type": "code",
   "execution_count": 5,
   "metadata": {},
   "outputs": [],
   "source": [
    "def make_landscape(a1,a2,a3,a4,a5,a6,a7,a8,a9,m1,m2,m3,m4,m5,m6,m7,m8,m9,compression=0.5):\n",
    "    #returns the coordinates of the energy landscape based on the specified gaussian functions\n",
    "    \n",
    "    gx,gy = np.meshgrid(np.linspace(-5,5,1024),np.linspace(-5,5,1024))\n",
    "    z = -1.*((gaussian(gx,gy,a1,0,m1[0],m1[1],.15,.1) + gaussian(gx,gy,a2,0,m2[0],m2[1],.35,.35)\\\n",
    "            + gaussian(gx,gy,a3,0,m3[0],m3[1],.1,.1) + gaussian(gx,gy,a4,0,m4[0],m4[1],.1,.1)\\\n",
    "            + gaussian(gx,gy,a5,0,m5[0],m5[1],.1,.3) + gaussian(gx,gy,a6,0,m6[0],m6[1],.3,.2)\\\n",
    "            + gaussian(gx,gy,a7,0,m7[0],m7[1],.2,.1) + gaussian(gx,gy,a8,0,m8[0],m8[1],.2,.2)\\\n",
    "            + gaussian(gx,gy,a9,0,m9[0],m9[1],.1,.1)))**compression\n",
    "    return gx,gy,z"
   ]
  },
  {
   "cell_type": "code",
   "execution_count": 6,
   "metadata": {},
   "outputs": [],
   "source": [
    "def make_plot(gx,gy,z,cmap,nlevels=256,fn='test',path=None,pathstart=800,azim=225.,elev=25.):\n",
    "    #generate the landscape figure based on the coordinates of the energy landscape\n",
    "\n",
    "    nn = 1000\n",
    "\n",
    "    delta = z.max()-z.min()\n",
    "    zlow = z.min()-delta*.2\n",
    "    zhigh = z.max()+delta*.1\n",
    "\n",
    "    ncut = gx.shape[1]//3\n",
    "    \n",
    "    from matplotlib.colors import LightSource\n",
    "    ls = LightSource(135, 30)\n",
    "    rgb1 = ls.shade(z[:,ncut:], cmap=cmap, vert_exag=0.2, blend_mode='soft')\n",
    "    rgb2 = ls.shade(z, cmap=cmap, vert_exag=0.1, blend_mode='soft')\n",
    "\n",
    "    fig = plt.figure(figsize=(6,4.5),dpi=300)\n",
    "    ax = fig.add_subplot(111, projection='3d')\n",
    "\n",
    "    ax.set_xlim(-5,5)\n",
    "    ax.set_zlim(zlow,zhigh)\n",
    "    ax.view_init(elev=elev, azim=azim)\n",
    "    degrid(ax)\n",
    "    \n",
    "    ax.plot_surface(gx,gy,z,facecolors=rgb2,rcount=nlevels,ccount=nlevels,linewidth=0, antialiased=False, shade=False,zorder=0)\n",
    "    \n",
    "    ax.plot_surface(gx,gy,np.zeros_like(z)+zlow,facecolors=rgb2,rcount=nlevels,ccount=nlevels,linewidth=0, antialiased=False, shade=False,zorder=-1)\n",
    "    fig.savefig('%s_part1.png'%(fn),transparent=True)\n",
    "    \n",
    "    fig.tight_layout()\n",
    "    plt.show()\n",
    "  "
   ]
  },
  {
   "cell_type": "code",
   "execution_count": null,
   "metadata": {},
   "outputs": [],
   "source": [
    " ## for reproducibility\n",
    "factor = 1\n",
    "seed = 101\n",
    "\n",
    "a1 = 0.2\n",
    "a2 = 1.0\n",
    "a3 = 0.2\n",
    "a4 = 0.07\n",
    "a5 = 0.05\n",
    "a6 = 0.04\n",
    "a7 = 0.06\n",
    "a8 = 0.03\n",
    "a9 = 0.04\n",
    "\n",
    "m1 = [1.7,-3.5]\n",
    "m2 = [0.,0.]\n",
    "m3 = [-1.,2.5]\n",
    "m4 = [3.5,-3.5]\n",
    "m5 = [2.7,0.]\n",
    "m6 = [3.2,3.]\n",
    "m7 = [-3.,-3.]\n",
    "m8 = [-2.7,0.]\n",
    "m9 = [-3.,3.5]\n",
    "\n",
    "temp = plt.cm.get_cmap('Greys_r', 512)\n",
    "newcmp = col.ListedColormap(temp(np.linspace(0.05, 0.85, 512)))\n",
    "\n",
    "gx,gy,z = make_landscape(a1,a2,a3,a4,a5,a6,a7,a8,a9,m1,m2,m3,m4,m5,m6,m7,m8,m9)\n",
    "noise = make_noise(gx,seed=seed)\n",
    "z -= 2*noise*factor\n",
    "z -= z.min() - 1.\n",
    "make_plot(gx,gy,z,newcmp,256,'landscape_2')\n"
   ]
  }
 ],
 "metadata": {
  "kernelspec": {
   "display_name": "Python 3",
   "language": "python",
   "name": "python3"
  },
  "language_info": {
   "codemirror_mode": {
    "name": "ipython",
    "version": 3
   },
   "file_extension": ".py",
   "mimetype": "text/x-python",
   "name": "python",
   "nbconvert_exporter": "python",
   "pygments_lexer": "ipython3",
   "version": "3.7.4"
  }
 },
 "nbformat": 4,
 "nbformat_minor": 2
}
